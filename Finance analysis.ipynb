{
 "cells": [
  {
   "cell_type": "code",
   "execution_count": 3,
   "metadata": {
    "scrolled": true
   },
   "outputs": [],
   "source": [
    "import pandas as pd\n",
    "import numpy as np\n",
    "import calendar\n",
    "import dateutil\n",
    "from dateutil import parser\n",
    "\n",
    "years = [2018,2019]\n",
    "#years = [2019]\n",
    "data_frames_list = []\n",
    "\n",
    "df = pd.read_csv('data//Statements_Midata.csv', encoding='ISO-8859-1', sep=';') # Read file to process into memory\n",
    "df = df.rename(columns={'Debit/Credit': 'Amount', 'Type': 'Transaction', 'Merchant/Description': 'Desc'}) # Rename columns to something more useful\n",
    "\n",
    "df['Date'] = pd.to_datetime(df.Date, dayfirst=True) # Deal with UK format dates\n",
    "df.loc[df['Balance'].str.contains('\\+£'), ['Balance']] = df['Balance'].str.replace(\"\\+£\", \"\")\n",
    "df['Debit'] = df.loc[df['Amount'].str.contains('-£'), ['Debit']] = df['Amount'].str.replace(\"-£\", \"\")\n",
    "df['Credit'] = df.loc[df['Amount'].str.contains('\\+£'), ['Credit']] = df['Amount'].str.replace(\"\\+£\", \"\")\n",
    "\n",
    "df['Balance'] = pd.to_numeric(df['Balance'], errors='coerce')\n",
    "df['Debit'] = pd.to_numeric(df['Debit'], errors='coerce')\n",
    "df['Credit'] = pd.to_numeric(df['Credit'], errors='coerce')\n",
    "df = df.drop(columns=['Amount',',,,'])\n",
    "\n",
    "for year in years:\n",
    "    for month in range(1, 13):\n",
    "        start_date = parser.parse(str(calendar.month_name[month]) + \" \" + str('01') + \" \" + str(year)) \n",
    "        end_date = parser.parse(str(calendar.month_name[month]) + \" \" + str(calendar.monthrange(year, month)[1]) + \" \" + str(year)) \n",
    "        mask = (df['Date'] >= start_date) & (df['Date'] <= end_date)\n",
    "        #mask = (df['Date'] >= start_date) & (df['Date'] <= end_date) & (df['Transaction'] == 'DD')\n",
    "        data = df.loc[mask].sort_values('Date', ascending=True)\n",
    "        #dd = df.loc[df['Transaction'] == 'DD']\n",
    "        #data = data.loc[data['Transaction'] == 'DD']\n",
    "        if data.empty == False:\n",
    "            data.loc['Total',4:6] = data.sum(axis=0)\n",
    "            data.loc['Total','Surplus/Deficit'] = data.loc['Total', 'Credit'] - data.loc['Total', 'Debit']\n",
    "            data_frames_list.append(data)\n",
    "final = pd.concat(data_frames_list)\n",
    "try:\n",
    "  final.to_csv('data//transactions_by_month.csv')\n",
    "except:\n",
    "  print(\"Something is wrong. Is the excel file open?\")"
   ]
  },
  {
   "cell_type": "code",
   "execution_count": 468,
   "metadata": {},
   "outputs": [
    {
     "data": {
      "text/html": [
       "<div>\n",
       "<style scoped>\n",
       "    .dataframe tbody tr th:only-of-type {\n",
       "        vertical-align: middle;\n",
       "    }\n",
       "\n",
       "    .dataframe tbody tr th {\n",
       "        vertical-align: top;\n",
       "    }\n",
       "\n",
       "    .dataframe thead th {\n",
       "        text-align: right;\n",
       "    }\n",
       "</style>\n",
       "<table border=\"1\" class=\"dataframe\">\n",
       "  <thead>\n",
       "    <tr style=\"text-align: right;\">\n",
       "      <th></th>\n",
       "      <th>Date</th>\n",
       "      <th>Transaction</th>\n",
       "      <th>Desc</th>\n",
       "      <th>Balance</th>\n",
       "      <th>Debit</th>\n",
       "      <th>Credit</th>\n",
       "    </tr>\n",
       "  </thead>\n",
       "  <tbody>\n",
       "  </tbody>\n",
       "</table>\n",
       "</div>"
      ],
      "text/plain": [
       "Empty DataFrame\n",
       "Columns: [Date, Transaction, Desc, Balance, Debit, Credit]\n",
       "Index: []"
      ]
     },
     "execution_count": 468,
     "metadata": {},
     "output_type": "execute_result"
    }
   ],
   "source": [
    "df\n"
   ]
  },
  {
   "cell_type": "code",
   "execution_count": null,
   "metadata": {},
   "outputs": [],
   "source": []
  }
 ],
 "metadata": {
  "kernelspec": {
   "display_name": "Python 3",
   "language": "python",
   "name": "python3"
  },
  "language_info": {
   "codemirror_mode": {
    "name": "ipython",
    "version": 3
   },
   "file_extension": ".py",
   "mimetype": "text/x-python",
   "name": "python",
   "nbconvert_exporter": "python",
   "pygments_lexer": "ipython3",
   "version": "3.7.4"
  }
 },
 "nbformat": 4,
 "nbformat_minor": 2
}
